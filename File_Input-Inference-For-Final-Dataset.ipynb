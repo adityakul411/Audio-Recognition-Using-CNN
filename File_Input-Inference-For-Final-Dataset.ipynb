{
 "cells": [
  {
   "cell_type": "code",
   "execution_count": null,
   "metadata": {},
   "outputs": [],
   "source": [
    "import wave\n",
    "import ntpath\n",
    "import numpy as np\n",
    "import tflite_runtime.interpreter as tflite"
   ]
  },
  {
   "cell_type": "code",
   "execution_count": null,
   "metadata": {},
   "outputs": [],
   "source": [
    "file_path = 'path/to/file'\n",
    "file = ntpath.basename(file_path)\n",
    "real = file.rsplit('.', 1)[0]\n",
    "\n",
    "ifile = wave.open('path/to/file')\n",
    "samples = ifile.getnframes()\n",
    "audio = ifile.readframes(samples)\n",
    "\n",
    "audio_as_np_int16 = np.frombuffer(audio, dtype=np.int16)  \n",
    "audio_as_np_float32 = audio_as_np_int16.astype(np.float32)  \n",
    "max_int16 = 2**15  \n",
    "\n",
    "audio_normalised = audio_as_np_float32 / max_int16\n",
    "audio_normalised = np.ndarray.astype(audio_normalised, 'float32')"
   ]
  },
  {
   "cell_type": "code",
   "execution_count": null,
   "metadata": {},
   "outputs": [],
   "source": [
    "zero_padding = np.zeros(48000-np.shape(audio_normalised)[0])  # based on the duration the value 48000 will differ\n",
    "equal_length = np.concatenate([audio_normalised, zero_padding], 0)"
   ]
  },
  {
   "cell_type": "code",
   "execution_count": null,
   "metadata": {},
   "outputs": [],
   "source": [
    "frame_length=255\n",
    "frame_step=128\n",
    "\n",
    "w = np.hanning(frame_length+1)\n",
    "X = np.array([np.fft.rfft(w*equal_length[i:i+frame_length+1]) \n",
    "              for i in range(0, len(equal_length)-frame_length, frame_step)])\n"
   ]
  },
  {
   "cell_type": "code",
   "execution_count": null,
   "metadata": {},
   "outputs": [],
   "source": [
    "X = np.abs(X)\n",
    "\n",
    "spectrogram = np.reshape(X, [1,374,129,1])\n",
    "spectrogram = spectrogram.astype(np.float32)"
   ]
  },
  {
   "cell_type": "code",
   "execution_count": null,
   "metadata": {},
   "outputs": [],
   "source": [
    "interpreter = tflite.Interpreter(model_path=\"path/to/tflite/model\")\n",
    "interpreter.allocate_tensors()\n",
    "input_details = interpreter.get_input_details()\n",
    "output_details = interpreter.get_output_details()\n",
    "\n",
    "interpreter.set_tensor(input_details[0]['index'], spectrogram)\n",
    "interpreter.invoke()\n",
    "output_data = interpreter.get_tensor(output_details[0]['index'])\n",
    "\n",
    "fnl_out = output_data.flatten()"
   ]
  },
  {
   "cell_type": "code",
   "execution_count": null,
   "metadata": {},
   "outputs": [],
   "source": [
    "data = fnl_out*100\n",
    "\n",
    "def index(i):\n",
    "    switcher={\n",
    "        0:'Backup',\n",
    "        1:'Connection',\n",
    "        2:'Device Diagnostic', \n",
    "        3:'Device Info',\n",
    "        4:'Hello PDM',\n",
    "        5:'No',\n",
    "        6:'Reboot PDM',\n",
    "        7:'Reboot to recovery mode',\n",
    "        8:'Remove USB',\n",
    "        9:'Run all',\n",
    "        10:'Start local setup',\n",
    "        11:'Stop local setup',\n",
    "        12:'System setup',\n",
    "        13:'Yes'\n",
    "        \n",
    "    }\n",
    "    return switcher.get(i,\"Invalid\")\n",
    "\n",
    "for i in range(len(data)):\n",
    "    if(data[i]==max(data)):\n",
    "        print(\"\\nInput audio:\", real)\n",
    "        print(\"Prediction:\", index(i))\n",
    "        print(\"Confidence Score\", data[i])"
   ]
  },
  {
   "cell_type": "code",
   "execution_count": null,
   "metadata": {},
   "outputs": [],
   "source": [
    "x_p=[]\n",
    "y_c=['Backup',\n",
    "   'Connection',\n",
    "   'Device Diagnostic', \n",
    "   'Device Info','Hello PDM',\n",
    "   'No',\n",
    "   'Reboot PDM',\n",
    "   'Reboot to recovery mode',\n",
    "   'Remove USB',\n",
    "   'Run all',\n",
    "   'Start local setup',\n",
    "   'Stop local setup',\n",
    "   'System setup','Yes']\n",
    "for i in range(len(data)):\n",
    "    x_p.append(data[i])\n"
   ]
  },
  {
   "cell_type": "code",
   "execution_count": null,
   "metadata": {},
   "outputs": [],
   "source": [
    "from matplotlib import pyplot as plt\n",
    "\n",
    "fig, ax = plt.subplots(figsize =(5, 5))\n",
    " \n",
    "# Horizontal Bar Plot\n",
    "ax.barh(y_c, x_p)\n",
    " \n",
    "# Remove axes splines\n",
    "for s in ['top', 'bottom', 'left', 'right']:\n",
    "    ax.spines[s].set_visible(False)\n",
    " \n",
    "# Remove x, y Ticks\n",
    "ax.xaxis.set_ticks_position('none')\n",
    "ax.yaxis.set_ticks_position('none')\n",
    " \n",
    "# Add padding between axes and labels\n",
    "ax.xaxis.set_tick_params(pad = 5)\n",
    "ax.yaxis.set_tick_params(pad = 10)\n",
    " \n",
    "# Add x, y gridlines\n",
    "ax.grid(b = True, color ='black',\n",
    "        linestyle ='-.', linewidth = 0.5,\n",
    "        alpha = 0.2)\n",
    " \n",
    "# Show top values\n",
    "ax.invert_yaxis()\n",
    " \n",
    "# Add annotation to bars\n",
    "for i in ax.patches:\n",
    "    plt.text(i.get_width()+0.2, i.get_y()+0.5,\n",
    "             str(round((i.get_width()), 2)),\n",
    "             fontsize = 10, fontweight ='bold',\n",
    "             color ='grey')\n",
    " \n",
    "# Add Plot Title\n",
    "ax.set_xlabel(\"Confidence Score (Percentage)\")\n",
    "ax.set_ylabel(\"Classes\")\n",
    "ax.set_title('Label Prediction', loc ='left')\n",
    "\n",
    "# Show Plot\n",
    "plt.show()"
   ]
  }
 ],
 "metadata": {
  "kernelspec": {
   "display_name": "Python 3.10.2 64-bit",
   "language": "python",
   "name": "python3"
  },
  "language_info": {
   "name": "python",
   "version": "3.10.2"
  },
  "orig_nbformat": 4,
  "vscode": {
   "interpreter": {
    "hash": "eb8575129301d2a21cc016f88c910e2387753a8f913bf14a3d44c310358343f3"
   }
  }
 },
 "nbformat": 4,
 "nbformat_minor": 2
}
