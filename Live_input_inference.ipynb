{
 "cells": [
  {
   "cell_type": "code",
   "execution_count": null,
   "metadata": {},
   "outputs": [],
   "source": [
    "import wave\n",
    "import numpy as np\n",
    "import sounddevice as sd\n",
    "import matplotlib.pyplot as plt \n",
    "import tflite_runtime.interpreter as tflite"
   ]
  },
  {
   "cell_type": "code",
   "execution_count": null,
   "metadata": {},
   "outputs": [],
   "source": [
    "freq = 16000\n",
    "dur = 2.0\n",
    "recording = sd.rec(int(dur * freq), samplerate=freq, channels=1)\n",
    "print(\"Recording started\")\n",
    "sd.wait()\n",
    "print(\"Recording stopped\")"
   ]
  },
  {
   "cell_type": "code",
   "execution_count": null,
   "metadata": {},
   "outputs": [],
   "source": [
    "recording = np.squeeze(recording, axis = 1)\n",
    "\n",
    "audio_normalised = recording\n",
    "zero_padding = np.zeros(48000-np.shape(audio_normalised)[0])\n",
    "equal_length = np.concatenate([audio_normalised, zero_padding], 0)\n",
    "\n",
    "frame_length=255\n",
    "frame_step=128\n",
    "\n",
    "w = np.hanning(frame_length+1)\n",
    "X = np.array([np.fft.rfft(w*equal_length[i:i+frame_length+1]) \n",
    "              for i in range(0, len(equal_length)-frame_length, frame_step)])\n",
    "\n",
    "X = np.abs(X)\n",
    "spectrogram = np.reshape(X, [1,374,129,1])\n",
    "spectrogram = spectrogram.astype(np.float32)"
   ]
  },
  {
   "cell_type": "code",
   "execution_count": null,
   "metadata": {},
   "outputs": [],
   "source": [
    "interpreter = tflite.Interpreter(model_path=\"path/to/tflite/model\")\n",
    "interpreter.allocate_tensors()\n",
    "input_details = interpreter.get_input_details()\n",
    "output_details = interpreter.get_output_details()\n",
    "\n",
    "interpreter.set_tensor(input_details[0]['index'], spectrogram)\n",
    "interpreter.invoke()\n",
    "output_data = interpreter.get_tensor(output_details[0]['index'])\n",
    "\n",
    "fnl_out = output_data.flatten()\n",
    "# fnl_out"
   ]
  },
  {
   "cell_type": "code",
   "execution_count": null,
   "metadata": {},
   "outputs": [],
   "source": [
    "\n",
    "data = fnl_out*100\n",
    "\n",
    "def index(i):\n",
    "    switcher={\n",
    "        0:'Backup',\n",
    "        1:'Connection',\n",
    "        2:'Device Diagnostic', \n",
    "        3:'Device Info',\n",
    "        4:'Hello PDM',\n",
    "        5:'No',\n",
    "        6:'Reboot PDM',\n",
    "        7:'Reboot to recovery mode',\n",
    "        8:'Remove USB',\n",
    "        9:'Run all',\n",
    "        10:'Start local setup',\n",
    "        11:'Stop local setup',\n",
    "        12:'System setup',\n",
    "        13:'Yes'\n",
    "        \n",
    "    }\n",
    "    return switcher.get(i,\"Invalid\")\n",
    "\n",
    "for i in range(len(data)):\n",
    "    if(data[i]==max(data)):\n",
    "        print(\"Prediction:\",index(i))"
   ]
  }
 ],
 "metadata": {
  "kernelspec": {
   "display_name": "Python 3.10.2 64-bit",
   "language": "python",
   "name": "python3"
  },
  "language_info": {
   "name": "python",
   "version": "3.10.2"
  },
  "orig_nbformat": 4,
  "vscode": {
   "interpreter": {
    "hash": "eb8575129301d2a21cc016f88c910e2387753a8f913bf14a3d44c310358343f3"
   }
  }
 },
 "nbformat": 4,
 "nbformat_minor": 2
}
