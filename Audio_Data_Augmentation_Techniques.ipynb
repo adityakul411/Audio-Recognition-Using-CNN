{
 "cells": [
  {
   "cell_type": "code",
   "execution_count": 1,
   "id": "8474be2e",
   "metadata": {},
   "outputs": [],
   "source": [
    "import os \n",
    "import librosa \n",
    "import pathlib\n",
    "import wavio as wv\n",
    "import numpy as np\n",
    "import tensorflow as tf\n",
    "from scipy.io.wavfile import read"
   ]
  },
  {
   "cell_type": "code",
   "execution_count": 136,
   "id": "e8735a12",
   "metadata": {},
   "outputs": [],
   "source": [
    "# path to the dataset\n",
    "data_dir = \"C:/Project/FINAL-DATASET/yes\"\n",
    "commands = np.array(tf.io.gfile.listdir(str(data_dir)))\n",
    "filenames = tf.io.gfile.glob(str(data_dir) + '/*')\n",
    "\n",
    "def get_label(file_path):\n",
    "    parts = tf.strings.split(file_path, os.path.sep)\n",
    "    return parts[-1]\n",
    "\n",
    "for i in range(0 , len(filenames)):\n",
    "    samples = read(filenames[i])"
   ]
  },
  {
   "cell_type": "code",
   "execution_count": 144,
   "id": "8a3b649a",
   "metadata": {},
   "outputs": [],
   "source": [
    "def augment(samples):\n",
    "    augmentation = samples.copy()\n",
    "     # Noise Addition\n",
    "    noise_amp = 0.075*np.random.uniform()*np.amax(augmentation)\n",
    "    augmentation = augmentation.astype('float64') + noise_amp * np.random.normal(size=augmentation.shape[0])\n",
    "    \n",
    "     # Random Shifting\n",
    "    s_range = int(np.random.uniform(low=-5, high = 5)*1000)\n",
    "    augmentation = np.roll(samples, s_range)\n",
    "    \n",
    "     # Stretching The Sound\n",
    "    augmentation = librosa.effects.time_stretch(samples, 0.8)\n",
    "    \n",
    "     # Pitch Tuning\n",
    "    bins_per_octave = 12\n",
    "    pitch_pm = 2\n",
    "    sample_rate = 16000\n",
    "    pitch_change =  pitch_pm * 2*(np.random.uniform())\n",
    "    augmentation = librosa.effects.pitch_shift(samples.astype('float64'), \n",
    "                                       sample_rate, n_steps=pitch_change, \n",
    "                                       bins_per_octave=bins_per_octave)\n",
    "    \n",
    "     # Random Value Change\n",
    "    dyn_change = np.random.uniform(low=-0.5 ,high=7)  # default low = 1.5, high = 3\n",
    "    augmentation = samples*dyn_change\n",
    "    \n",
    "     # Speed and Pitch Tuning\n",
    "    length_change = np.random.uniform(low=0.8, high = 1)\n",
    "    speed_fac = 1.0  / length_change\n",
    "    tmp = np.interp(np.arange(0,len(augmentation),speed_fac),np.arange(0,len(augmentation)),augmentation)\n",
    "    minlen = min(augmentation.shape[0], tmp.shape[0])\n",
    "    augmentation *= 0\n",
    "    augmentation[0:minlen] = tmp[0:minlen]\n",
    "    \n",
    "    return augmentation"
   ]
  },
  {
   "cell_type": "code",
   "execution_count": 145,
   "id": "aede2d98",
   "metadata": {},
   "outputs": [],
   "source": [
    "for i in range(0 , len(filenames)):\n",
    "    samples = read(filenames[i])\n",
    "    samples = np.array(samples[1], dtype=float)\n",
    "    samples = np.float32(samples)\n",
    "    augmented_sample = augment(samples)\n",
    "    freq = 16000\n",
    "    x = get_label(filenames[i]).numpy().decode(\"utf-8\")\n",
    "    # file variable stores the string which is the path to the dataset and is added with a prefix (aug4_) to seperate all the augmented files from the normal files\n",
    "    wv.write(file=\"C:/Users/HP/Desktop/My_Folder/DATASET-FINAL-IFM/Yes/\" + \"aug4_\" + x , \n",
    "             data=augmented_sample, \n",
    "             rate=freq, \n",
    "             sampwidth=2)"
   ]
  },
  {
   "cell_type": "code",
   "execution_count": null,
   "id": "94d5080f",
   "metadata": {},
   "outputs": [],
   "source": []
  }
 ],
 "metadata": {
  "kernelspec": {
   "display_name": "Python 3.10.2 64-bit",
   "language": "python",
   "name": "python3"
  },
  "language_info": {
   "codemirror_mode": {
    "name": "ipython",
    "version": 3
   },
   "file_extension": ".py",
   "mimetype": "text/x-python",
   "name": "python",
   "nbconvert_exporter": "python",
   "pygments_lexer": "ipython3",
   "version": "3.10.2"
  },
  "vscode": {
   "interpreter": {
    "hash": "eb8575129301d2a21cc016f88c910e2387753a8f913bf14a3d44c310358343f3"
   }
  }
 },
 "nbformat": 4,
 "nbformat_minor": 5
}
